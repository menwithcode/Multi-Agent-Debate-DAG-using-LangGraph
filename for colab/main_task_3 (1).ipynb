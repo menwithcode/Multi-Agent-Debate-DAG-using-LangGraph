{
  "nbformat": 4,
  "nbformat_minor": 0,
  "metadata": {
    "colab": {
      "provenance": []
    },
    "kernelspec": {
      "name": "python3",
      "display_name": "Python 3"
    },
    "language_info": {
      "name": "python"
    }
  },
  "cells": [
    {
      "cell_type": "code",
      "source": [
        "!pip install openai rich graphviz"
      ],
      "metadata": {
        "colab": {
          "base_uri": "https://localhost:8080/"
        },
        "id": "2n6C4S54jyJd",
        "outputId": "4616e3b8-6c77-47df-c7a2-b12229a28b5c"
      },
      "execution_count": null,
      "outputs": [
        {
          "output_type": "stream",
          "name": "stdout",
          "text": [
            "Requirement already satisfied: openai in /usr/local/lib/python3.11/dist-packages (1.91.0)\n",
            "Requirement already satisfied: rich in /usr/local/lib/python3.11/dist-packages (13.9.4)\n",
            "Requirement already satisfied: graphviz in /usr/local/lib/python3.11/dist-packages (0.21)\n",
            "Requirement already satisfied: anyio<5,>=3.5.0 in /usr/local/lib/python3.11/dist-packages (from openai) (4.9.0)\n",
            "Requirement already satisfied: distro<2,>=1.7.0 in /usr/local/lib/python3.11/dist-packages (from openai) (1.9.0)\n",
            "Requirement already satisfied: httpx<1,>=0.23.0 in /usr/local/lib/python3.11/dist-packages (from openai) (0.28.1)\n",
            "Requirement already satisfied: jiter<1,>=0.4.0 in /usr/local/lib/python3.11/dist-packages (from openai) (0.10.0)\n",
            "Requirement already satisfied: pydantic<3,>=1.9.0 in /usr/local/lib/python3.11/dist-packages (from openai) (2.11.7)\n",
            "Requirement already satisfied: sniffio in /usr/local/lib/python3.11/dist-packages (from openai) (1.3.1)\n",
            "Requirement already satisfied: tqdm>4 in /usr/local/lib/python3.11/dist-packages (from openai) (4.67.1)\n",
            "Requirement already satisfied: typing-extensions<5,>=4.11 in /usr/local/lib/python3.11/dist-packages (from openai) (4.14.0)\n",
            "Requirement already satisfied: markdown-it-py>=2.2.0 in /usr/local/lib/python3.11/dist-packages (from rich) (3.0.0)\n",
            "Requirement already satisfied: pygments<3.0.0,>=2.13.0 in /usr/local/lib/python3.11/dist-packages (from rich) (2.19.2)\n",
            "Requirement already satisfied: idna>=2.8 in /usr/local/lib/python3.11/dist-packages (from anyio<5,>=3.5.0->openai) (3.10)\n",
            "Requirement already satisfied: certifi in /usr/local/lib/python3.11/dist-packages (from httpx<1,>=0.23.0->openai) (2025.6.15)\n",
            "Requirement already satisfied: httpcore==1.* in /usr/local/lib/python3.11/dist-packages (from httpx<1,>=0.23.0->openai) (1.0.9)\n",
            "Requirement already satisfied: h11>=0.16 in /usr/local/lib/python3.11/dist-packages (from httpcore==1.*->httpx<1,>=0.23.0->openai) (0.16.0)\n",
            "Requirement already satisfied: mdurl~=0.1 in /usr/local/lib/python3.11/dist-packages (from markdown-it-py>=2.2.0->rich) (0.1.2)\n",
            "Requirement already satisfied: annotated-types>=0.6.0 in /usr/local/lib/python3.11/dist-packages (from pydantic<3,>=1.9.0->openai) (0.7.0)\n",
            "Requirement already satisfied: pydantic-core==2.33.2 in /usr/local/lib/python3.11/dist-packages (from pydantic<3,>=1.9.0->openai) (2.33.2)\n",
            "Requirement already satisfied: typing-inspection>=0.4.0 in /usr/local/lib/python3.11/dist-packages (from pydantic<3,>=1.9.0->openai) (0.4.1)\n"
          ]
        }
      ]
    },
    {
      "cell_type": "code",
      "execution_count": null,
      "metadata": {
        "colab": {
          "base_uri": "https://localhost:8080/",
          "height": 1000
        },
        "id": "SoknGlVitVwZ",
        "outputId": "b46ab812-459d-4adb-e340-b76af1d0c3f8"
      },
      "outputs": [
        {
          "name": "stdout",
          "output_type": "stream",
          "text": [
            "Enter topic for debate: Should AI be regulated like medicine?\n",
            "Enter profession for Agent A (e.g., Scientist): scientist\n",
            "Enter profession for Agent B (e.g., Philosopher): philosopher\n"
          ]
        },
        {
          "output_type": "display_data",
          "data": {
            "text/plain": [
              "\n",
              "\u001b[1;32mDebate Topic:\u001b[0m Should AI be regulated like medicine?\n"
            ],
            "text/html": [
              "<pre style=\"white-space:pre;overflow-x:auto;line-height:normal;font-family:Menlo,'DejaVu Sans Mono',consolas,'Courier New',monospace\">\n",
              "<span style=\"color: #008000; text-decoration-color: #008000; font-weight: bold\">Debate Topic:</span> Should AI be regulated like medicine?\n",
              "</pre>\n"
            ]
          },
          "metadata": {}
        },
        {
          "output_type": "display_data",
          "data": {
            "text/plain": [
              "\u001b[1;32mAgent A Profession:\u001b[0m scientist\n"
            ],
            "text/html": [
              "<pre style=\"white-space:pre;overflow-x:auto;line-height:normal;font-family:Menlo,'DejaVu Sans Mono',consolas,'Courier New',monospace\"><span style=\"color: #008000; text-decoration-color: #008000; font-weight: bold\">Agent A Profession:</span> scientist\n",
              "</pre>\n"
            ]
          },
          "metadata": {}
        },
        {
          "output_type": "display_data",
          "data": {
            "text/plain": [
              "\u001b[1;32mAgent B Profession:\u001b[0m philosopher\n",
              "\n"
            ],
            "text/html": [
              "<pre style=\"white-space:pre;overflow-x:auto;line-height:normal;font-family:Menlo,'DejaVu Sans Mono',consolas,'Courier New',monospace\"><span style=\"color: #008000; text-decoration-color: #008000; font-weight: bold\">Agent B Profession:</span> philosopher\n",
              "\n",
              "</pre>\n"
            ]
          },
          "metadata": {}
        },
        {
          "output_type": "display_data",
          "data": {
            "text/plain": [
              "\u001b[1;31mscientist:\u001b[0m AI's potential impact on safety, fairness, and privacy parallels concerns in medicine. Unregulated AI \n",
              "could lead to misdiagnoses or biased decision-making, similar to unregulated medical practices. However, AI's rapid\n",
              "evolution and broader societal implications necessitate distinct regulatory frameworks that account for unique \n",
              "challenges in AI development, deployment, and oversight.\n",
              "\n"
            ],
            "text/html": [
              "<pre style=\"white-space:pre;overflow-x:auto;line-height:normal;font-family:Menlo,'DejaVu Sans Mono',consolas,'Courier New',monospace\"><span style=\"color: #800000; text-decoration-color: #800000; font-weight: bold\">scientist:</span> AI's potential impact on safety, fairness, and privacy parallels concerns in medicine. Unregulated AI \n",
              "could lead to misdiagnoses or biased decision-making, similar to unregulated medical practices. However, AI's rapid\n",
              "evolution and broader societal implications necessitate distinct regulatory frameworks that account for unique \n",
              "challenges in AI development, deployment, and oversight.\n",
              "\n",
              "</pre>\n"
            ]
          },
          "metadata": {}
        },
        {
          "output_type": "display_data",
          "data": {
            "text/plain": [
              "\u001b[1;35mphilosopher:\u001b[0m While I agree with the scientist's comparison of AI's impact to that of medicine, I'd like to \n",
              "emphasize the need for tailored AI regulations. The unique characteristics of AI, such as its ability to learn and \n",
              "adapt, generate novel risks that are not commonly found in medical practices. Therefore, a distinct regulatory \n",
              "framework should be developed, one that can effectively address AI's specific challenges, while ensuring safety, \n",
              "fairness, and privacy. By doing so, we can maximize AI's benefits and minimize potential harm to society.\n",
              "\n"
            ],
            "text/html": [
              "<pre style=\"white-space:pre;overflow-x:auto;line-height:normal;font-family:Menlo,'DejaVu Sans Mono',consolas,'Courier New',monospace\"><span style=\"color: #800080; text-decoration-color: #800080; font-weight: bold\">philosopher:</span> While I agree with the scientist's comparison of AI's impact to that of medicine, I'd like to \n",
              "emphasize the need for tailored AI regulations. The unique characteristics of AI, such as its ability to learn and \n",
              "adapt, generate novel risks that are not commonly found in medical practices. Therefore, a distinct regulatory \n",
              "framework should be developed, one that can effectively address AI's specific challenges, while ensuring safety, \n",
              "fairness, and privacy. By doing so, we can maximize AI's benefits and minimize potential harm to society.\n",
              "\n",
              "</pre>\n"
            ]
          },
          "metadata": {}
        },
        {
          "output_type": "display_data",
          "data": {
            "text/plain": [
              "\u001b[1;31mscientist:\u001b[0m Given the distinct nature of AI's ability to learn and adapt, it's crucial to develop a regulatory \n",
              "framework that can keep pace with AI's rapid evolution. This is unlike traditional medicine, where regulatory \n",
              "updates may occur at a slower pace. The rapid advancement of AI necessitates an agile regulatory approach that \n",
              "allows for regular updates and revisions. This proactive regulation can help mitigate AI risks more effectively and\n",
              "ensure continuous safety, fairness, and privacy protection.\n",
              "\n"
            ],
            "text/html": [
              "<pre style=\"white-space:pre;overflow-x:auto;line-height:normal;font-family:Menlo,'DejaVu Sans Mono',consolas,'Courier New',monospace\"><span style=\"color: #800000; text-decoration-color: #800000; font-weight: bold\">scientist:</span> Given the distinct nature of AI's ability to learn and adapt, it's crucial to develop a regulatory \n",
              "framework that can keep pace with AI's rapid evolution. This is unlike traditional medicine, where regulatory \n",
              "updates may occur at a slower pace. The rapid advancement of AI necessitates an agile regulatory approach that \n",
              "allows for regular updates and revisions. This proactive regulation can help mitigate AI risks more effectively and\n",
              "ensure continuous safety, fairness, and privacy protection.\n",
              "\n",
              "</pre>\n"
            ]
          },
          "metadata": {}
        },
        {
          "output_type": "display_data",
          "data": {
            "text/plain": [
              "\u001b[1;35mphilosopher:\u001b[0m I agree with the scientist's emphasis on an agile regulatory approach for AI, but I'd like to add that\n",
              "this adaptation should be guided by ethical principles. Just as in medicine, where patient well-being is the \n",
              "overarching goal, AI regulation should prioritize societal benefit and welfare. This means that AI's learning \n",
              "capabilities should be directed towards ethically desirable outcomes, and regulations should be designed to ensure \n",
              "AI systems' values are aligned with human values. In this way, we can create a regulatory framework that is not \n",
              "only adaptive but also ethically grounded, providing a solid foundation for AI development and use.\n",
              "\n"
            ],
            "text/html": [
              "<pre style=\"white-space:pre;overflow-x:auto;line-height:normal;font-family:Menlo,'DejaVu Sans Mono',consolas,'Courier New',monospace\"><span style=\"color: #800080; text-decoration-color: #800080; font-weight: bold\">philosopher:</span> I agree with the scientist's emphasis on an agile regulatory approach for AI, but I'd like to add that\n",
              "this adaptation should be guided by ethical principles. Just as in medicine, where patient well-being is the \n",
              "overarching goal, AI regulation should prioritize societal benefit and welfare. This means that AI's learning \n",
              "capabilities should be directed towards ethically desirable outcomes, and regulations should be designed to ensure \n",
              "AI systems' values are aligned with human values. In this way, we can create a regulatory framework that is not \n",
              "only adaptive but also ethically grounded, providing a solid foundation for AI development and use.\n",
              "\n",
              "</pre>\n"
            ]
          },
          "metadata": {}
        },
        {
          "output_type": "display_data",
          "data": {
            "text/plain": [
              "\u001b[1;31mscientist:\u001b[0m Building on our shared understanding of the need for an agile, ethically grounded regulatory framework \n",
              "for AI, I'd like to emphasize the importance of including interdisciplinary expertise in the development of these \n",
              "guidelines. This approach would ensure that the regulations account for the complexities of AI technology, its \n",
              "societal implications, and ethical considerations. By engaging experts from fields such as computer science, \n",
              "ethics, law, and social sciences, we can create a regulatory framework that is comprehensive, well-informed, and \n",
              "capable of addressing AI's unique challenges, ultimately maximizing its benefits while minimizing potential harm.\n",
              "\n"
            ],
            "text/html": [
              "<pre style=\"white-space:pre;overflow-x:auto;line-height:normal;font-family:Menlo,'DejaVu Sans Mono',consolas,'Courier New',monospace\"><span style=\"color: #800000; text-decoration-color: #800000; font-weight: bold\">scientist:</span> Building on our shared understanding of the need for an agile, ethically grounded regulatory framework \n",
              "for AI, I'd like to emphasize the importance of including interdisciplinary expertise in the development of these \n",
              "guidelines. This approach would ensure that the regulations account for the complexities of AI technology, its \n",
              "societal implications, and ethical considerations. By engaging experts from fields such as computer science, \n",
              "ethics, law, and social sciences, we can create a regulatory framework that is comprehensive, well-informed, and \n",
              "capable of addressing AI's unique challenges, ultimately maximizing its benefits while minimizing potential harm.\n",
              "\n",
              "</pre>\n"
            ]
          },
          "metadata": {}
        },
        {
          "output_type": "display_data",
          "data": {
            "text/plain": [
              "\u001b[1;35mphilosopher:\u001b[0m While I concur with the scientist's emphasis on interdisciplinary expertise in creating a regulatory \n",
              "framework for AI, I'd like to add that such a framework should also incorporate public participation. By engaging \n",
              "various stakeholders, including the public, in the regulatory process, we can ensure that the guidelines are not \n",
              "only technically sound and ethically grounded but also socially acceptable and responsive to diverse societal needs\n",
              "and concerns. This inclusive approach would further strengthen the comprehensiveness and legitimacy of the AI \n",
              "regulatory framework.\n",
              "\n"
            ],
            "text/html": [
              "<pre style=\"white-space:pre;overflow-x:auto;line-height:normal;font-family:Menlo,'DejaVu Sans Mono',consolas,'Courier New',monospace\"><span style=\"color: #800080; text-decoration-color: #800080; font-weight: bold\">philosopher:</span> While I concur with the scientist's emphasis on interdisciplinary expertise in creating a regulatory \n",
              "framework for AI, I'd like to add that such a framework should also incorporate public participation. By engaging \n",
              "various stakeholders, including the public, in the regulatory process, we can ensure that the guidelines are not \n",
              "only technically sound and ethically grounded but also socially acceptable and responsive to diverse societal needs\n",
              "and concerns. This inclusive approach would further strengthen the comprehensiveness and legitimacy of the AI \n",
              "regulatory framework.\n",
              "\n",
              "</pre>\n"
            ]
          },
          "metadata": {}
        },
        {
          "output_type": "display_data",
          "data": {
            "text/plain": [
              "\u001b[1;31mscientist:\u001b[0m As a scientist, I'd like to propose that our AI regulatory framework should include regular audits and \n",
              "evaluations of AI systems. This approach will ensure that the regulations remain effective and up-to-date as AI \n",
              "technology continues to advance. By incorporating audits, we can identify any issues or discrepancies between the \n",
              "intended outcomes and actual performance of AI systems, allowing for timely revisions and improvements to the \n",
              "regulatory guidelines. This ongoing assessment will contribute to a more dynamic and responsive regulatory \n",
              "framework that can adapt to AI's rapid pace of change while maintaining a strong focus on ethical considerations \n",
              "and societal benefit.\n",
              "\n"
            ],
            "text/html": [
              "<pre style=\"white-space:pre;overflow-x:auto;line-height:normal;font-family:Menlo,'DejaVu Sans Mono',consolas,'Courier New',monospace\"><span style=\"color: #800000; text-decoration-color: #800000; font-weight: bold\">scientist:</span> As a scientist, I'd like to propose that our AI regulatory framework should include regular audits and \n",
              "evaluations of AI systems. This approach will ensure that the regulations remain effective and up-to-date as AI \n",
              "technology continues to advance. By incorporating audits, we can identify any issues or discrepancies between the \n",
              "intended outcomes and actual performance of AI systems, allowing for timely revisions and improvements to the \n",
              "regulatory guidelines. This ongoing assessment will contribute to a more dynamic and responsive regulatory \n",
              "framework that can adapt to AI's rapid pace of change while maintaining a strong focus on ethical considerations \n",
              "and societal benefit.\n",
              "\n",
              "</pre>\n"
            ]
          },
          "metadata": {}
        },
        {
          "output_type": "display_data",
          "data": {
            "text/plain": [
              "\u001b[1;35mphilosopher:\u001b[0m Including regular audits in the AI regulatory framework, as suggested by the scientist, is a valuable \n",
              "approach to ensure effectiveness and adaptability. However, as a philosopher, I'd like to emphasize the need for \n",
              "transparency in these audits. By making the audit process and findings transparent, we can build public trust, \n",
              "foster social acceptance, and enable continual evaluation of AI systems' ethical alignment. This transparency, \n",
              "combined with interdisciplinary expertise and public participation, will result in a robust, ethical, and \n",
              "responsive regulatory framework that serves the best interests of society.\n",
              "\n"
            ],
            "text/html": [
              "<pre style=\"white-space:pre;overflow-x:auto;line-height:normal;font-family:Menlo,'DejaVu Sans Mono',consolas,'Courier New',monospace\"><span style=\"color: #800080; text-decoration-color: #800080; font-weight: bold\">philosopher:</span> Including regular audits in the AI regulatory framework, as suggested by the scientist, is a valuable \n",
              "approach to ensure effectiveness and adaptability. However, as a philosopher, I'd like to emphasize the need for \n",
              "transparency in these audits. By making the audit process and findings transparent, we can build public trust, \n",
              "foster social acceptance, and enable continual evaluation of AI systems' ethical alignment. This transparency, \n",
              "combined with interdisciplinary expertise and public participation, will result in a robust, ethical, and \n",
              "responsive regulatory framework that serves the best interests of society.\n",
              "\n",
              "</pre>\n"
            ]
          },
          "metadata": {}
        },
        {
          "output_type": "display_data",
          "data": {
            "text/plain": [
              "\n",
              "\u001b[1;33mJudge Summary:\u001b[0m\n",
              "Summary:\n",
              "Round \u001b[1;36m1\u001b[0m: Both the scientist and philosopher argue for distinct regulatory frameworks for AI, considering its unique\n",
              "challenges and potential impact on safety, fairness, and privacy.\n",
              "Round \u001b[1;36m2\u001b[0m: They agree on an agile regulatory approach for AI, but emphasize different aspects: the scientist focuses \n",
              "on rapid updates to keep pace with AI evolution, while the philosopher highlights the importance of ethically \n",
              "desirable outcomes.\n",
              "Round \u001b[1;36m3\u001b[0m: Both participants stress the need for interdisciplinary expertise and public participation in developing \n",
              "the regulatory framework.\n",
              "Round \u001b[1;36m4\u001b[0m: The scientist advocates for regular audits of AI systems, while the philosopher emphasizes the importance \n",
              "of transparency in the audit process.\n",
              "\n",
              "Winner: Philosopher\n",
              "Reason: The philosopher's emphasis on ethically grounded regulations, societal benefit, and transparency provides a\n",
              "more comprehensive and inclusive approach to AI regulation. The philosopher's arguments effectively balance the \n",
              "need for technical soundness, ethical considerations, and social acceptance, ultimately creating a regulatory \n",
              "framework that best serves the interests of society.\n",
              "\n"
            ],
            "text/html": [
              "<pre style=\"white-space:pre;overflow-x:auto;line-height:normal;font-family:Menlo,'DejaVu Sans Mono',consolas,'Courier New',monospace\">\n",
              "<span style=\"color: #808000; text-decoration-color: #808000; font-weight: bold\">Judge Summary:</span>\n",
              "Summary:\n",
              "Round <span style=\"color: #008080; text-decoration-color: #008080; font-weight: bold\">1</span>: Both the scientist and philosopher argue for distinct regulatory frameworks for AI, considering its unique\n",
              "challenges and potential impact on safety, fairness, and privacy.\n",
              "Round <span style=\"color: #008080; text-decoration-color: #008080; font-weight: bold\">2</span>: They agree on an agile regulatory approach for AI, but emphasize different aspects: the scientist focuses \n",
              "on rapid updates to keep pace with AI evolution, while the philosopher highlights the importance of ethically \n",
              "desirable outcomes.\n",
              "Round <span style=\"color: #008080; text-decoration-color: #008080; font-weight: bold\">3</span>: Both participants stress the need for interdisciplinary expertise and public participation in developing \n",
              "the regulatory framework.\n",
              "Round <span style=\"color: #008080; text-decoration-color: #008080; font-weight: bold\">4</span>: The scientist advocates for regular audits of AI systems, while the philosopher emphasizes the importance \n",
              "of transparency in the audit process.\n",
              "\n",
              "Winner: Philosopher\n",
              "Reason: The philosopher's emphasis on ethically grounded regulations, societal benefit, and transparency provides a\n",
              "more comprehensive and inclusive approach to AI regulation. The philosopher's arguments effectively balance the \n",
              "need for technical soundness, ethical considerations, and social acceptance, ultimately creating a regulatory \n",
              "framework that best serves the interests of society.\n",
              "\n",
              "</pre>\n"
            ]
          },
          "metadata": {}
        },
        {
          "output_type": "stream",
          "name": "stdout",
          "text": [
            "\n",
            "Logs saved as debate_summary.txt and debate_log.txt\n",
            "DAG diagram saved as debate_dag.png\n"
          ]
        }
      ],
      "source": [
        "# !pip install openai rich graphviz\n",
        "\n",
        "from openai import OpenAI\n",
        "from graphviz import Digraph\n",
        "from rich.console import Console\n",
        "import os\n",
        "import json\n",
        "from datetime import datetime\n",
        "\n",
        "# Initialize Together API via OpenAI SDK\n",
        "client = OpenAI(\n",
        "    api_key=\"aa42e00c41af9a363a8d90cd31bf790055cd4f3a2bd2fb053e56135aab351753\",\n",
        "    base_url=\"https://api.together.xyz/v1\"\n",
        ")\n",
        "\n",
        "console = Console()\n",
        "\n",
        "# -------------------- Logger -------------------- #\n",
        "LOG_FILE_NAME = \"debate_log.jsonl\"\n",
        "\n",
        "\n",
        "def log_transition(node_name, state, message=None):\n",
        "    log_entry = {\n",
        "        \"timestamp\": datetime.now().isoformat(),\n",
        "        \"node\": node_name,\n",
        "        \"state_snapshot\": {\n",
        "            \"topic\": state.get(\"topic\"),\n",
        "            \"agent_a_profession\": state.get(\"agent_a_profession\"),\n",
        "            \"agent_b_profession\": state.get(\"agent_b_profession\"),\n",
        "            \"round\": state.get(\"round\"),\n",
        "            \"previous_b\": state.get(\"previous_b\"),\n",
        "            \"memory_count\": len(state.get(\"memory\", []))\n",
        "        },\n",
        "        \"message\": message\n",
        "    }\n",
        "    with open(LOG_FILE_NAME, \"a\") as f:\n",
        "        f.write(json.dumps(log_entry) + \"\\n\")\n",
        "\n",
        "# -------------------- Explicit State Validation -------------------- #\n",
        "def validate_state(state, current_node):\n",
        "    required_keys = ['topic', 'agent_a_profession', 'agent_b_profession', 'memory', 'round', 'previous_b']\n",
        "    for key in required_keys:\n",
        "        if key not in state:\n",
        "            raise ValueError(f\"[State Validation] Missing required key: {key} in state during {current_node}\")\n",
        "    if not isinstance(state['memory'], list):\n",
        "        raise TypeError(f\"[State Validation] 'memory' should be a list, got {type(state['memory'])} during {current_node}\")\n",
        "    if not isinstance(state['round'], int) or state['round'] < 1:\n",
        "        raise ValueError(f\"[State Validation] 'round' should be a positive integer, got {state['round']} during {current_node}\")\n",
        "    if state['round'] > 8 and current_node != 'judge':\n",
        "        raise ValueError(f\"[State Validation] Round exceeded maximum limit before Judge Node during {current_node}\")\n",
        "    # Silent validation\n",
        "\n",
        "# -------------------- Node Base -------------------- #\n",
        "class Node:\n",
        "    def __init__(self, name):\n",
        "        self.name = name\n",
        "\n",
        "    def run(self, state):\n",
        "        raise NotImplementedError\n",
        "\n",
        "# -------------------- Nodes -------------------- #\n",
        "class UserInputNode(Node):\n",
        "    def run(self, state):\n",
        "        topic = input(\"Enter topic for debate: \")\n",
        "        agent_a_profession = input(\"Enter profession for Agent A (e.g., Scientist): \")\n",
        "        agent_b_profession = input(\"Enter profession for Agent B (e.g., Philosopher): \")\n",
        "\n",
        "        state['topic'] = topic\n",
        "        state['agent_a_profession'] = agent_a_profession\n",
        "        state['agent_b_profession'] = agent_b_profession\n",
        "        state['memory'] = []\n",
        "        state['round'] = 1\n",
        "        state['previous_b'] = \"\"\n",
        "\n",
        "        console.print(f\"\\n[bold green]Debate Topic:[/bold green] {topic}\")\n",
        "        console.print(f\"[bold green]Agent A Profession:[/bold green] {agent_a_profession}\")\n",
        "        console.print(f\"[bold green]Agent B Profession:[/bold green] {agent_b_profession}\\n\")\n",
        "        log_transition(self.name, state, \"Initialized debate state with user input.\")\n",
        "        return state\n",
        "\n",
        "class AgentANode(Node):\n",
        "    def run(self, state):\n",
        "        context_rounds = state['memory'][-2:] if len(state['memory']) >= 2 else state['memory']\n",
        "        transcript = \"\\n\".join([\n",
        "            f\"Round {len(state['memory']) - len(context_rounds) + idx + 1}:\\n{state['agent_a_profession']}: {a}\\n{state['agent_b_profession']}: {b}\"\n",
        "            for idx, (a, b) in enumerate(context_rounds)\n",
        "        ]) if context_rounds else \"None yet.\"\n",
        "\n",
        "        prompt = f\"\"\"\n",
        "You are a {state['agent_a_profession']} participating in a structured debate on: \"{state['topic']}\".\n",
        "Round {state['round']}.\n",
        "\n",
        "Here is the transcript of previous relevant rounds:\n",
        "{transcript}\n",
        "\n",
        "Instructions:\n",
        "- Carefully read all previous arguments by both yourself and your opponent before responding.\n",
        "- Do not repeat any points or arguments already made in earlier rounds.\n",
        "- Do not contradict any points that have been accepted by both parties in previous rounds.\n",
        "- Do not claim that your own previous arguments were wrong.\n",
        "- If a point has already been agreed upon, add new supporting evidence, examples, or additional relevant perspectives to deepen the discussion.\n",
        "- Only introduce new, relevant angles if they add value to the debate and align with your professional perspective.\n",
        "- Keep your argument clear, logical, and directly tied to the topic.\n",
        "- Write 3-5 sentences maximum.\n",
        "- Do not include references, citations, or source lists in your response.\n",
        "\"\"\"\n",
        "        response = client.chat.completions.create(\n",
        "            model=\"mistralai/Mixtral-8x7B-Instruct-v0.1\",\n",
        "            messages=[\n",
        "                {\"role\": \"system\", \"content\": \"You are a helpful assistant.\"},\n",
        "                {\"role\": \"user\", \"content\": prompt}\n",
        "            ]\n",
        "        ).choices[0].message.content.strip()\n",
        "\n",
        "        console.print(f\"[bold red]{state['agent_a_profession']}:[/bold red ] {response}\\n\")\n",
        "        state['current_a'] = response\n",
        "        log_transition(self.name, state, f\"{state['agent_a_profession']} responded.\")\n",
        "        return state\n",
        "\n",
        "class AgentBNode(Node):\n",
        "    def run(self, state):\n",
        "        context_rounds = state['memory'][-2:] if len(state['memory']) >= 2 else state['memory']\n",
        "        transcript = \"\\n\".join([\n",
        "            f\"Round {len(state['memory']) - len(context_rounds) + idx + 1}:\\n{state['agent_a_profession']}: {a}\\n{state['agent_b_profession']}: {b}\"\n",
        "            for idx, (a, b) in enumerate(context_rounds)\n",
        "        ]) if context_rounds else \"None yet.\"\n",
        "\n",
        "        prompt = f\"\"\"\n",
        "You are a {state['agent_b_profession']} debating on: \"{state['topic']}\".\n",
        "Round {state['round']}.\n",
        "{state['agent_a_profession']} said: \"{state['current_a']}\"\n",
        "\n",
        "Here is the transcript of previous relevant rounds:\n",
        "{transcript}\n",
        "\n",
        "Instructions:\n",
        "- Carefully read all previous arguments by both yourself and your opponent before responding.\n",
        "- Do not repeat any points or arguments already made in earlier rounds.\n",
        "- Do not contradict any points that have been accepted by both parties in previous rounds.\n",
        "- Do not claim that your own previous arguments were wrong.\n",
        "- If a point has already been agreed upon, add new supporting evidence, examples, or additional relevant perspectives to deepen the discussion.\n",
        "- Only introduce new, relevant angles if they add value to the debate and align with your professional perspective.\n",
        "- Keep your argument clear, logical, and directly tied to the topic.\n",
        "- Write 3-5 sentences maximum.\n",
        "- Do not include references, citations, or source lists in your response.\n",
        "\"\"\"\n",
        "        response = client.chat.completions.create(\n",
        "            model=\"mistralai/Mixtral-8x7B-Instruct-v0.1\",\n",
        "            messages=[\n",
        "                {\"role\": \"system\", \"content\": \"You are a helpful assistant.\"},\n",
        "                {\"role\": \"user\", \"content\": prompt}\n",
        "            ]\n",
        "        ).choices[0].message.content.strip()\n",
        "\n",
        "        console.print(f\"[bold magenta]{state['agent_b_profession']}:[/bold magenta] {response}\\n\")\n",
        "        state['current_b'] = response\n",
        "        state['previous_b'] = response\n",
        "        log_transition(self.name, state, f\"{state['agent_b_profession']} responded.\")\n",
        "        return state\n",
        "\n",
        "class MemoryNode(Node):\n",
        "    def run(self, state):\n",
        "        state['memory'].append((state['current_a'], state['current_b']))\n",
        "        state['round'] += 1\n",
        "        log_transition(self.name, state, \"Memory updated with current round's conversation.\")\n",
        "        return state\n",
        "\n",
        "class JudgeNode(Node):\n",
        "    def run(self, state):\n",
        "        transcript = \"\\n\".join([\n",
        "            f\"Round {i+1}:\\n{state['agent_a_profession']}: {a}\\n{state['agent_b_profession']}: {b}\\n\"\n",
        "            for i, (a, b) in enumerate(state['memory'])\n",
        "        ])\n",
        "        prompt = f\"\"\"\n",
        "You are an impartial debate judge.\n",
        "Topic: \"{state['topic']}\"\n",
        "\n",
        "Debate transcript:\n",
        "{transcript}\n",
        "\n",
        "Instructions:\n",
        "- Summarize each round in 1-2 lines.\n",
        "- Decide the winner between ({state['agent_a_profession']} or {state['agent_b_profession']}) with a clear, logical reason.\n",
        "- Do not include references, citations, or source lists in your response.\n",
        "- Return the result in the following format:\n",
        "Summary:\n",
        "...\n",
        "Winner: <winner name only>\n",
        "Reason: <short reason why the winner won>\n",
        "\"\"\"\n",
        "        response = client.chat.completions.create(\n",
        "            model=\"mistralai/Mixtral-8x7B-Instruct-v0.1\",\n",
        "            messages=[\n",
        "                {\"role\": \"system\", \"content\": \"You are a helpful assistant.\"},\n",
        "                {\"role\": \"user\", \"content\": prompt}\n",
        "            ]\n",
        "        ).choices[0].message.content.strip()\n",
        "\n",
        "        console.print(f\"\\n[bold yellow]Judge Summary:[/bold yellow]\\n{response}\\n\")\n",
        "        with open(\"debate_summary.txt\", \"w\") as f:\n",
        "            f.write(response)\n",
        "        with open(\"debate_log.txt\", \"w\") as f:\n",
        "            f.write(transcript)\n",
        "        log_transition(self.name, state, \"Judge provided summary and decision.\")\n",
        "        print(\"\\nLogs saved as debate_summary.txt and debate_log.txt\")\n",
        "        return state\n",
        "\n",
        "# -------------------- DAG Engine with Validation -------------------- #\n",
        "# Maps string identifiers to node instances for your finite state machine workflow.\n",
        "nodes = {\n",
        "    'user_input': UserInputNode('user_input'),\n",
        "    'agent_a': AgentANode('agent_a'),\n",
        "    'agent_b': AgentBNode('agent_b'),\n",
        "    'memory': MemoryNode('memory'),\n",
        "    'judge': JudgeNode('judge')\n",
        "}\n",
        "# initializes the starting node and empty state.\n",
        "current = 'user_input'\n",
        "state = {}\n",
        "# Runs state validation before and after each node except user_input\n",
        "while True:\n",
        "    if current != 'user_input':\n",
        "        validate_state(state, current)\n",
        "\n",
        "    state = nodes[current].run(state)\n",
        "\n",
        "    if current != 'user_input':\n",
        "        validate_state(state, current)\n",
        "\n",
        "    if current == 'user_input':\n",
        "        current = 'agent_a'\n",
        "    elif current == 'agent_a':\n",
        "        current = 'agent_b'\n",
        "    elif current == 'agent_b':\n",
        "        current = 'memory'\n",
        "    elif current == 'memory':\n",
        "        if state['round'] > 4:\n",
        "            current = 'judge'\n",
        "        else:\n",
        "            current = 'agent_a'\n",
        "    elif current == 'judge':\n",
        "        break\n",
        "\n",
        "# -------------------- DAG Visualization -------------------- #\n",
        "dot = Digraph(comment='Debate DAG', format='png')\n",
        "dot.attr(rankdir='LR')\n",
        "dot.node('User', 'User Input')\n",
        "dot.node('AgentA', 'Agent A')\n",
        "dot.node('AgentB', 'Agent B')\n",
        "dot.node('Memory', 'Memory Node')\n",
        "dot.node('Judge', 'Judge')\n",
        "dot.edge('User', 'AgentA')\n",
        "dot.edge('AgentA', 'AgentB')\n",
        "dot.edge('AgentB', 'Memory')\n",
        "dot.edge('Memory', 'AgentA')\n",
        "dot.edge('AgentA', 'Judge')\n",
        "dot.render('debate_dag', cleanup=True)\n",
        "print(\"DAG diagram saved as debate_dag.png\")\n"
      ]
    },
    {
      "cell_type": "code",
      "source": [],
      "metadata": {
        "id": "lSGG8p3Utasn"
      },
      "execution_count": null,
      "outputs": []
    }
  ]
}